{
 "cells": [
  {
   "cell_type": "markdown",
   "metadata": {},
   "source": [
    "# 1. [60+10] Language and Topic models\n",
    "\n",
    "A common suggestion to users for coming up with good queries is to think of words that would likely appear in a relevant document, and to use those words as the query. The language modeling approach to IR directly models this idea: a document is a good match to a query if the document model is likely to generate the query, which will in turn happen if the document contains the query words often. \n",
    "\n",
    "You will score documents with respect to user query using language models and also get some experience with topic modelling.\n",
    "\n",
    "## 1.0. [5] Loading data\n",
    "\n",
    "We use the dataset we already used once - [this topic-modeling dataset](https://code.google.com/archive/p/topic-modeling-tool/downloads) ([or from github](https://github.com/IUCVLab/information-retrieval/blob/main/datasets/topic-modelling.zip))."
   ]
  },
  {
   "cell_type": "code",
   "execution_count": 12,
   "metadata": {},
   "outputs": [
    {
     "name": "stderr",
     "output_type": "stream",
     "text": [
      "[nltk_data] Downloading package stopwords to\n",
      "[nltk_data]     /Users/maximevgrafov/nltk_data...\n",
      "[nltk_data]   Package stopwords is already up-to-date!\n"
     ]
    },
    {
     "name": "stdout",
     "output_type": "stream",
     "text": [
      "# of documents 15002\n"
     ]
    }
   ],
   "source": [
    "# TODO: read the dataset\n",
    "import os\n",
    "import string\n",
    "import nltk\n",
    "from nltk.corpus import stopwords\n",
    "nltk.download('stopwords')\n",
    "from nltk.tokenize import word_tokenize\n",
    "all_data = []\n",
    "\n",
    "mapping = {\"testdata_braininjury_10000docs.txt\":\"brain injury\",\"testdata_news_music_2084docs.txt\":\"music\",\"testdata_news_fuel_845docs.txt\":\"fuel\",\"testdata_news_economy_2073docs.txt\":\"news_economy\"}\n",
    "\n",
    "for item in os.listdir('topic-modelling'):\n",
    "    fn = os.path.join('topic-modelling',item)\n",
    "    if os.path.isfile(fn):\n",
    "        with open(fn, 'r') as fin:\n",
    "            for doc in fin:\n",
    "                doc = doc.lower()\n",
    "                text_tokens = doc.translate(str.maketrans('', '', string.punctuation))\n",
    "                all_data.append((text_tokens,mapping[item]))\n",
    "\n",
    "\n",
    "print(\"# of documents\", len(all_data))\n",
    "assert len(all_data) == 15002"
   ]
  },
  {
   "cell_type": "markdown",
   "metadata": {},
   "source": [
    "## 1.1. [55] Ranking Using Language Models\n",
    "Our goal is to rank documents by $P(d|q)$, where the probability of a document is interpreted as the likelihood that it is relevant to the query. \n",
    "\n",
    "Using Bayes rule: $P(d|q) = \\frac{P(q|d)P(d)}{P(q)}$\n",
    "\n",
    "$P(q)$ is the same for all documents, and so can be ignored. The prior probability of a document $P(d)$ is often treated as uniform across all $d$'s and so it can also be ignored. What does it mean? \n",
    "\n",
    "It means that computing $P(q|d)$ for different documents we can compare how relevant are they to the query. How can we estimate $P(q|d)$?\n",
    "\n",
    "$P(q|d)$ can be estimated as:\n",
    "\n",
    "![](https://i.imgur.com/BEIMAC1.png)\n",
    "\n",
    "where $M_d$ is the language model of document $d$, $tf_{t,d}$ is the term frequency of term $t$ in document $d$, and $L_d$ is the number of tokens in document $d$. That is, we just count up how often each word occurred, and divide by the total number of words in the document $d$.\n",
    "\n",
    "### 1.1.1. [15] Build TDM (or DTM)\n",
    "\n",
    "The first thing we need to do is to build a term-document matrix for tour dataset."
   ]
  },
  {
   "cell_type": "code",
   "execution_count": 13,
   "metadata": {},
   "outputs": [],
   "source": [
    "# TODO: build term-document matrix for the dataset\n",
    "import numpy as np\n",
    "from sklearn.feature_extraction.text import CountVectorizer\n",
    "\n",
    "documents = [doc for doc, topic in all_data]\n",
    "vec = CountVectorizer()\n",
    "X = vec.fit_transform(documents).astype(dtype=np.uint32)\n",
    "terms = vec.get_feature_names()\n",
    "tdm = X.toarray()"
   ]
  },
  {
   "cell_type": "markdown",
   "metadata": {},
   "source": [
    "### 1.1.2. [30] Smoothing\n",
    "\n",
    "Now, you need to implement the abovementioned logic in the `lm_rank_documents` function below. Do you see any potential problems?\n",
    "\n",
    "Yes, data sparsity - we don't expect to meet each term in each doc, so, in most cases, we will get zero scores, which is not what we really want.\n",
    "\n",
    "The solution is smooting.\n",
    "\n",
    "One option is *[additive smoothing](https://en.wikipedia.org/wiki/Additive_smoothing)* - adding a small number (0 to 1) to the observed counts and renormalizing to give a probability distribution.\n",
    "\n",
    "Another option is called [Jelinek-Mercer smoothing](http://mlwiki.org/index.php/Smoothing_for_Language_Models#Jelinek-Mercer_Smoothing) - a simple idea that works well in practice is to use a mixture between a document-specific distribution and distribution estimated from the entire collection:\n",
    "\n",
    "![](https://i.imgur.com/8Qv41Wp.png)\n",
    "\n",
    "where 0 < λ < 1 and $M_c$ is a language model built from the entire document collection.\n",
    "\n",
    "Refer to [*Chapter 12*](https://nlp.stanford.edu/IR-book/html/htmledition/language-models-for-information-retrieval-1.html) for the detailed explanation.\n",
    "\n",
    "\n",
    "You are going to apply both in your `lm_rank_documents` function. This function takes TDM or DTM as an input, and ranks all documents \"building\" a language model for each document, returning relative probabilities of query being generated by a document as a document's score."
   ]
  },
  {
   "cell_type": "code",
   "execution_count": 14,
   "metadata": {},
   "outputs": [],
   "source": [
    "import numpy as np\n",
    "\n",
    "def lm_rank_documents(query, tdm, smoothing='additive', param=0.001):\n",
    "    # TODO: score each document in tdm using this document's language model\n",
    "    # implement two types of smoothing. Looks up term frequencies in tdm\n",
    "    # return document scores in a convenient form\n",
    "    # param is alpha for additive / lambda for jelinek-mercer\n",
    "    scores = [1]*len(documents)\n",
    "    if smoothing == 'additive':\n",
    "        d = len(terms)\n",
    "        for doc_id in range(len(documents)):\n",
    "            term_freqs = tdm[doc_id]\n",
    "            doc_length = sum(term_freqs)\n",
    "            for term in query:    \n",
    "                try:\n",
    "                    term_id = terms.index(term)\n",
    "                except:\n",
    "                    continue\n",
    "                scores[doc_id]*=(term_freqs[term_id] + param)\n",
    "            scores[doc_id] = scores[doc_id]/(doc_length + param*d)\n",
    "   \n",
    "    if smoothing == 'jelinek-mercer':\n",
    "        d = sum(tdm[:,:])\n",
    "        for doc_id in range(len(documents)):\n",
    "            term_freqs = tdm[doc_id]\n",
    "            doc_length = sum(term_freqs)\n",
    "            md = 1\n",
    "            mc = 1\n",
    "            for term in query:    \n",
    "                try:\n",
    "                    term_id = terms.index(term)\n",
    "                except:\n",
    "                    continue\n",
    "                md*=term_freqs[term_id]/doc_length\n",
    "                mc*=sum(tdm[:,term_id].flatten())/d\n",
    "            scores[doc_id] = param*md+(1-param)*mc\n",
    "                    \n",
    "    \n",
    "    return scores"
   ]
  },
  {
   "cell_type": "markdown",
   "metadata": {},
   "source": [
    "### 1.1.3. [10] Testing\n",
    "\n",
    "Check if this type of ranking gives meaningful results. For each query output document `category`, `doc_id`, `score`, and the *beginning* of the document, as it is shown below. Analyze if categories and contents match the queries. "
   ]
  },
  {
   "cell_type": "code",
   "execution_count": 19,
   "metadata": {},
   "outputs": [
    {
     "name": "stdout",
     "output_type": "stream",
     "text": [
      "User query: piano concert\n",
      "\n",
      "Score: 0.03518347142755395 \n",
      "doc_id: 10890 \n",
      "topic: music \n",
      "document extract: playing carnegie hall concert performer dream when word leaked out that america most famous concert \n",
      "\n",
      "Score: 0.0323410692084542 \n",
      "doc_id: 10916 \n",
      "topic: music \n",
      "document extract: sometimes the most satisfying renovation the one that doesn happen two years ago geoffrey menin boug\n",
      "\n",
      "Score: 0.031225391454488542 \n",
      "doc_id: 10670 \n",
      "topic: music \n",
      "document extract: igor kipnis the virtuoso harpsichordist whose busy concert recording career made him the instrument \n",
      "\n",
      "Score: 0.012865315730353695 \n",
      "doc_id: 10810 \n",
      "topic: music \n",
      "document extract: began said stephen somary not precisely with midsummer night dream with dream nonetheless would cond\n",
      "\n",
      "Score: 0.009054029459686013 \n",
      "doc_id: 11782 \n",
      "topic: music \n",
      "document extract: could easily have been business usual the concert hall young ensemble not long out conservatory but \n",
      "\n",
      "\n",
      "User query: symptoms of head trauma\n",
      "\n",
      "Score: 1.3254309856312645 \n",
      "doc_id: 1998 \n",
      "topic: brain injury \n",
      "document extract: characteristics that distinguish abusive from nonabusive head trauma among young children who underw\n",
      "\n",
      "Score: 0.9858520462488067 \n",
      "doc_id: 1490 \n",
      "topic: brain injury \n",
      "document extract: conversion symptomatic chiari malformation after minor head neck trauma objective the chiari malform\n",
      "\n",
      "Score: 0.42098110892952917 \n",
      "doc_id: 5023 \n",
      "topic: brain injury \n",
      "document extract: utility computed tomography the head following head trauma boys with haemophilia the most serious si\n",
      "\n",
      "Score: 0.38878258353649114 \n",
      "doc_id: 6279 \n",
      "topic: brain injury \n",
      "document extract: head trauma female professional wrestlers the clinical characteristics head trauma were evaluated wr\n",
      "\n",
      "Score: 0.2611358723391244 \n",
      "doc_id: 7351 \n",
      "topic: brain injury \n",
      "document extract: functional time limit and onset symptoms infant abusive head trauma aim analyse medical and witness \n",
      "\n",
      "\n",
      "User query: wall street journal\n",
      "\n",
      "Score: 0.15744278990146518 \n",
      "doc_id: 11587 \n",
      "topic: music \n",
      "document extract: daniel pearl the wall street journal reporter kidnapped one month ago islamic extremists pakistan ha\n",
      "\n",
      "Score: 0.15744278990146518 \n",
      "doc_id: 11588 \n",
      "topic: music \n",
      "document extract: daniel pearl the wall street journal reporter kidnapped one month ago islamic extremists pakistan ha\n",
      "\n",
      "Score: 0.09095941739835328 \n",
      "doc_id: 14763 \n",
      "topic: news_economy \n",
      "document extract: for questions please call enron enron washington wall street analysts who kept urging investors buy \n",
      "\n",
      "Score: 0.08586537303122804 \n",
      "doc_id: 14770 \n",
      "topic: news_economy \n",
      "document extract: for questions please call eds adds ecoterror anthrax oly flowers fbn falcons camp xray book buttons \n",
      "\n",
      "Score: 0.06634360253949667 \n",
      "doc_id: 13825 \n",
      "topic: news_economy \n",
      "document extract: the defining play the patriots victory over pittsburgh sunday afc championship game happened because\n",
      "\n",
      "Score: 0.06634360253949667 \n",
      "doc_id: 12427 \n",
      "topic: fuel \n",
      "document extract: the defining play the patriots victory over pittsburgh sunday afc championship game happened because\n",
      "\n",
      "\n"
     ]
    }
   ],
   "source": [
    "def process_query(raw_query):\n",
    "    # TODO: process user query and print search results including document category, id, score, and some part of it\n",
    "    query = raw_query.lower().translate(str.maketrans('', '', string.punctuation)).split(' ')\n",
    "    results = lm_rank_documents(query, tdm, smoothing='additive')\n",
    "#     print(sorted(results,reverse=True)[:5])\n",
    "    output_doc_ids = []\n",
    "    for result in sorted(results,reverse=True)[:5]:\n",
    "        doc_ids = [i for i, n in enumerate(results) if n == result]\n",
    "        output_doc_ids += doc_ids\n",
    "    \n",
    "    output_doc_ids = sorted(list(set(output_doc_ids)), key=lambda x: results[x], reverse=True)\n",
    "    \n",
    "    for doc_id in output_doc_ids:\n",
    "        print('\\nScore:', results[doc_id], '\\ndoc_id:',doc_id, '\\ntopic:', all_data[doc_id][1], '\\ndocument extract:',all_data[doc_id][0][:100])\n",
    "    \n",
    "#     for result in sorted(results,reverse=True)[:5]:\n",
    "#         doc_id = results.index(result)\n",
    "#         print('\\nScore:',result, '\\ndoc_id:',doc_id, '\\ntopic:', all_data[doc_id][1], '\\ndocument extract:',all_data[doc_id][0][:100])\n",
    "    \n",
    "\n",
    "user_queries = [\"piano concert\", \"symptoms of head trauma\", \"wall street journal\"]\n",
    "for q in user_queries:\n",
    "    print('User query:',q)\n",
    "    process_query(q)\n",
    "    print(\"\\n\")"
   ]
  },
  {
   "cell_type": "markdown",
   "metadata": {},
   "source": [
    "## 1.2. [+10] Topic modeling\n",
    "\n",
    "Now let's use *Latent Dirichlet Allocation* to identify topics in this collection and check if they match the original topics (fuel, economy, etc.). Go through the tutorial [here](https://towardsdatascience.com/end-to-end-topic-modeling-in-python-latent-dirichlet-allocation-lda-35ce4ed6b3e0) and apply the ideas there to our dataset. "
   ]
  },
  {
   "cell_type": "code",
   "execution_count": 20,
   "metadata": {},
   "outputs": [
    {
     "name": "stderr",
     "output_type": "stream",
     "text": [
      "[nltk_data] Downloading package stopwords to\n",
      "[nltk_data]     /Users/maximevgrafov/nltk_data...\n",
      "[nltk_data]   Package stopwords is already up-to-date!\n"
     ]
    },
    {
     "name": "stdout",
     "output_type": "stream",
     "text": [
      "Topic: brain injury\n",
      "{'brain', 'results', 'outcome', 'traumatic', 'injuries', 'injury', 'trauma', 'treatment', 'head', 'tbi', 'patient', 'study', 'patients'}\n",
      "Topic: music\n",
      "{'time', 'would', 'new', 'one', 'atlanta', 'first', 'york', 'also', 'people', 'said', 'like', 'two', 'year', 'music', 'news'}\n",
      "Topic: fuel\n",
      "{'bush', 'new', 'one', 'first', 'news', 'york', 'could', 'people', 'said', 'like', 'two', 'last', 'enron', 'year', 'would', 'company'}\n",
      "Topic: news_economy\n",
      "{'bush', 'new', 'would', 'atlanta', 'economy', 'one', 'york', 'percent', 'people', 'said', 'last', 'enron', 'year', 'news'}\n"
     ]
    }
   ],
   "source": [
    "# TODO: apply LDA to our dataset and output the resulting categories \n",
    "import gensim\n",
    "from gensim.utils import simple_preprocess\n",
    "import gensim.corpora as corpora\n",
    "import nltk\n",
    "import re\n",
    "nltk.download('stopwords')\n",
    "from nltk.corpus import stopwords\n",
    "\n",
    "stop_words = stopwords.words('english')\n",
    "stop_words.extend(['from', 'subject', 're', 'edu', 'use'])\n",
    "\n",
    "def remove_stopwords(texts):\n",
    "    return [[word for word in simple_preprocess(str(doc)) \n",
    "             if word not in stop_words] for doc in texts]\n",
    "def sent_to_words(sentences):\n",
    "    for sentence in sentences:\n",
    "        # deacc=True removes punctuations\n",
    "        yield(gensim.utils.simple_preprocess(str(sentence), deacc=True))\n",
    "\n",
    "texts = {}\n",
    "for doc, topic in all_data:\n",
    "    if topic not in texts.keys():\n",
    "        texts[topic] = []\n",
    "    texts[topic].append(doc)\n",
    "#\"testdata_news_music_2084docs.txt\":\"music\",\"testdata_news_fuel_845docs.txt\":\"fuel\",\"testdata_news_economy_2073docs.txt\":\"news_economy\"}\n",
    "num_topics = 3\n",
    "for key in list(texts):\n",
    "    text = remove_stopwords(list(sent_to_words(texts[key])))\n",
    "    id2word = corpora.Dictionary(text)\n",
    "    corpus = [id2word.doc2bow(t) for t in text]\n",
    "              \n",
    "    lda_model = gensim.models.LdaMulticore(corpus=corpus,\n",
    "                                       id2word=id2word,\n",
    "                                       num_topics=num_topics)\n",
    "    print(\"Topic:\", key)\n",
    "    result = re.split('\\W',str(lda_model.print_topics()))\n",
    "    to_print = set()\n",
    "    for r in result:\n",
    "        if r.isalpha():\n",
    "            to_print.add(r)\n",
    "    print(to_print)    "
   ]
  },
  {
   "cell_type": "markdown",
   "metadata": {},
   "source": [
    "We expect to see something like this (if collapsed, click on 3 dots):"
   ]
  },
  {
   "cell_type": "markdown",
   "metadata": {
    "tags": []
   },
   "source": [
    "```\n",
    "Topic #0:\n",
    "brain injury patients tbi traumatic study cerebral results severe group cognitive clinical pressure imaging following outcome control using children test\n",
    "\n",
    "Topic #1:\n",
    "new said york news atlanta like times year service time people undated just music journal constitution city says com years\n",
    "\n",
    "Topic #2:\n",
    "patients injury injuries trauma head study results traumatic brain treatment cases patient fractures years case outcome methods clinical tbi surgery\n",
    "\n",
    "Topic #3:\n",
    "said year bush percent new enron company president government people economy years million state companies states economic united time billion\n",
    "```"
   ]
  },
  {
   "cell_type": "markdown",
   "metadata": {},
   "source": [
    "# 2. [40+10] Sugges_\n",
    "\n",
    "One of the strategies to improve user experience is to provide user with hints, or, otherwise, to autocomplete his queries. Let's consider suggest.\n",
    "\n",
    "Today we will practice generating suggestions using [Trie](https://en.wikipedia.org/wiki/Trie) datastructure (prefix tree), see the example below.\n",
    "\n",
    "Plan of your homework:\n",
    "\n",
    "1. Build Trie based on real search query data, provided by AOL company;\n",
    "2. Generate suggestion based on trie;\n",
    "3. Measure suggestion speed;\n",
    "4. (+) Optionally add spellcheck to suggest.\n",
    "\n",
    "\n",
    "![image](https://www.ritambhara.in/wp-content/uploads/2017/05/Screen-Shot-2017-05-01-at-4.01.38-PM.png)\n",
    "\n",
    "## 2.0. Install Trie data structure support\n",
    "\n",
    "You are free to use any library implementation of Trie, as well as the one we suggest (read the docs before asking any questions!): https://github.com/google/pygtrie"
   ]
  },
  {
   "cell_type": "code",
   "execution_count": null,
   "metadata": {},
   "outputs": [],
   "source": [
    "# !pip install pygtrie"
   ]
  },
  {
   "cell_type": "markdown",
   "metadata": {},
   "source": [
    "### 2.0.1. Check it works and understand the example"
   ]
  },
  {
   "cell_type": "code",
   "execution_count": 22,
   "metadata": {},
   "outputs": [
    {
     "name": "stdout",
     "output_type": "stream",
     "text": [
      "CharTrie(this is 1: A, this is 2: B, that is 3: C)\n",
      "Node = False\n",
      "Subtree = True\n",
      "this is 1 ~ A\n",
      "this is 2 ~ B\n"
     ]
    }
   ],
   "source": [
    "import pygtrie\n",
    "t = pygtrie.CharTrie()\n",
    "\n",
    "# trie can be considered as a form of organizing a set of map\n",
    "t[\"this is 1\"] = \"A\"\n",
    "t[\"this is 2\"] = \"B\"\n",
    "t[\"that is 3\"] = \"C\"\n",
    "\n",
    "print(t)\n",
    "\n",
    "# \"this\" string is present in a set\n",
    "n = t.has_node('this') == pygtrie.Trie.HAS_VALUE\n",
    "# \"this\" prefix is present in a set\n",
    "s = t.has_node('this') == pygtrie.Trie.HAS_SUBTRIE\n",
    "\n",
    "print(f\"Node = {n}\\nSubtree = {s}\")\n",
    "\n",
    "# iterate a subtree\n",
    "for key, val in t.iteritems(\"this\"):\n",
    "    print(key, '~', val)\n"
   ]
  },
  {
   "cell_type": "markdown",
   "metadata": {},
   "source": [
    "## 2.1. Build a trie upon a dataset\n",
    "\n",
    "### 2.1.1. [5] Read dataset\n",
    "\n",
    "Download the [dataset](https://github.com/IUCVLab/information-retrieval/tree/main/datasets/aol) (we provide only the first part of the original data for simplicity (~3.5 mln queries)).\n",
    "\n",
    "Explore the data, see readme file. Load the dataset."
   ]
  },
  {
   "cell_type": "code",
   "execution_count": 23,
   "metadata": {},
   "outputs": [],
   "source": [
    "import pandas as pd\n",
    "aol_data = None\n",
    "\n",
    "#TODO: Read the dataset, e.g. as pandas dataframe\n",
    "aol_data = pd.read_csv(\"user-ct-test-collection-01.txt\", encoding='utf-8', sep=\"\\t\")\n",
    "assert aol_data.shape[0] == 3558411, \"Dataset size doesnt' match\""
   ]
  },
  {
   "cell_type": "markdown",
   "metadata": {},
   "source": [
    "### 2.1.2. [10] Build Trie\n",
    "\n",
    "We want suggest function to be **non-sensitive to stop words** because we don't want to upset the user if he confuses/omits prepositions, for example. Consider `public events in Innopolis` vs `public events at Innopolis` or `public events Innopolis` - they all mean the same.\n",
    "\n",
    "Build Trie based on the dataset, **storing query statistics such as query frequency, urls and ranks in nodes**. Some queries may not have associated urls, others may have multiple ranked urls, consider this."
   ]
  },
  {
   "cell_type": "code",
   "execution_count": 24,
   "metadata": {},
   "outputs": [],
   "source": [
    "aol_trie = pygtrie.CharTrie()\n",
    "import re\n",
    "\n",
    "query_stopwords = stopwords.words('english')\n",
    "query_stopwords.remove('and')\n",
    "query_stopwords.remove('the')\n",
    "query_stopwords.remove('when')\n",
    "query_stopwords.remove('you')\n",
    "\n",
    "#TODO: build trie based on dataset\n",
    "def query_to_words(sentence):\n",
    "    sent = re.split('\\W+', str(sentence))\n",
    "    return sent\n",
    "def rem_query_stopwds(text):\n",
    "    return [word for word in text if word not in query_stopwords]\n",
    "\n",
    "for _, item in aol_data.iterrows():\n",
    "    raw_query = item.Query\n",
    "    if raw_query is not None and str(raw_query) != 'nan' and len(str(raw_query)) > 0:\n",
    "        query = \" \".join(rem_query_stopwds(query_to_words(raw_query)))\n",
    "        if (aol_trie.has_node(query) == pygtrie.Trie.HAS_VALUE):\n",
    "            for key, val in aol_trie.iteritems(query):\n",
    "                if item.ClickURL is not None and str(item.ClickURL) != 'nan' and len(str(item.ClickURL)) > 0:\n",
    "                    aol_trie[key] = (val[0]+1,val[1]+[(item.ClickURL, item.ItemRank)])\n",
    "                else:\n",
    "                    aol_trie[key] = (val[0]+1,val[1])\n",
    "        else:\n",
    "            if item.ClickURL is not None and str(item.ClickURL) != 'nan' and len(str(item.ClickURL)) > 0:\n",
    "                aol_trie[query] = (1,[(item.ClickURL, item.ItemRank)])\n",
    "            else:\n",
    "                aol_trie[query] = (1,[])\n",
    "                "
   ]
  },
  {
   "cell_type": "code",
   "execution_count": 25,
   "metadata": {},
   "outputs": [
    {
     "name": "stdout",
     "output_type": "stream",
     "text": [
      "sample question surveys ~ (5, [('http://www.surveyconnect.com', 7.0), ('http://www.custominsight.com', 4.0), ('http://www.askemployees.com', 10.0), ('http://www.lg-employers.gov.uk', 1.0)])\n",
      "sample questions immigration interview ~ (1, [])\n",
      "sample questions interview ~ (1, [('http://www.quintcareers.com', 1.0)])\n",
      "sample questions family interview ~ (3, [('http://www.grandparents-day.com', 2.0), ('http://www.quintcareers.com', 5.0), ('http://jobsearchtech.about.com', 3.0)])\n",
      "sample questions sociology race and ethnicity ~ (1, [])\n",
      "sample questions biology ~ (2, [('http://www.utexas.edu', 3.0), ('http://www.troy.k12.ny.us', 6.0)])\n",
      "sample questions us citizenship test ~ (1, [('http://uscis.gov', 1.0)])\n",
      "sample questionarie teaching evaluation ~ (1, [])\n",
      "sample questionnaire teaching evaluation ~ (5, [('http://www.surveyconsole.com', 1.0), ('http://www.usask.ca', 2.0), ('http://teaching.berkeley.edu', 6.0), ('http://www.flinders.edu.au', 9.0), ('http://oregonstate.edu', 10.0)])\n",
      "sample questionnaire clinical research coordinators certification ~ (1, [('http://www.pharmatech.com', 9.0)])\n"
     ]
    }
   ],
   "source": [
    "# test trie\n",
    "bag = []\n",
    "for key, val in aol_trie.iteritems(\"sample q\"):\n",
    "    print(key, '~', val)\n",
    "    \n",
    "    #NB: here we assume you store urls in a list field. But you can do something different. \n",
    "    bag += [url for url, _ in val[1]]\n",
    "    \n",
    "    assert \"sample question\" in key, \"All examples have `sample question` substring\"\n",
    "    assert key[:len(\"sample question\")] == \"sample question\", \"All examples have `sample question` starting string\"\n",
    "\n",
    "for url in [\"http://www.surveyconnect.com\", \"http://www.custominsight.com\", \n",
    "            \"http://jobsearchtech.about.com\", \"http://www.troy.k12.ny.us\",\n",
    "            \"http://www.flinders.edu.au\", \"http://uscis.gov\"]:\n",
    "    assert url in bag, \"This url should be in a try\""
   ]
  },
  {
   "cell_type": "markdown",
   "metadata": {},
   "source": [
    "## 2.2. [10] Write a suggest function which is non-sensitive to stop words\n",
    "\n",
    "Suggest options for user query based on Trie you just built.\n",
    "Output results sorted by frequency, print query count for each suggestion. If there is an url available, print the url too. If multiple url-s are available, print the one with the highest rank (the less the better)."
   ]
  },
  {
   "cell_type": "code",
   "execution_count": 26,
   "metadata": {
    "scrolled": true
   },
   "outputs": [
    {
     "name": "stdout",
     "output_type": "stream",
     "text": [
      "Query: trie\n",
      "Results:\n",
      "['tried and true tattoo', 'triest', 'triethanalomine', 'tried and failed', 'tried and truechildren consignment sale']\n",
      "['http://www.triedntruetattoo.com', 'http://avalon.unomaha.edu']\n"
     ]
    }
   ],
   "source": [
    "def complete_user_query(query, trie, top_k=5):\n",
    "    #TODO: suggest top_k options for a user query\n",
    "    # sort results by frequency, suggest first ranked urls if available\n",
    "    query = \" \".join(rem_query_stopwds(query_to_words(query)))\n",
    "    if not (trie.has_node(query) == pygtrie.Trie.HAS_SUBTRIE or trie.has_node(query) == pygtrie.Trie.HAS_VALUE):\n",
    "        return []\n",
    "    results = []\n",
    "    for key, val in trie.iteritems(query):\n",
    "        results.append((key, val))\n",
    "    if len(results)==0:\n",
    "        return []\n",
    "    results = [(query, val) for query, val in (sorted(results,key=lambda x: x[1][0],reverse=True))[:min(len(results),top_k)]]\n",
    "    suggestions = []\n",
    "    sug_urls = []\n",
    "    for q,v in results:\n",
    "        urls = v[1]\n",
    "        suggestions.append(q)\n",
    "        if len(urls)!=0:\n",
    "            urls = sorted(urls, key=lambda x: x[1])\n",
    "            sug_urls.append(urls[0][0])\n",
    "        \n",
    "    return suggestions, sug_urls\n",
    "\n",
    "        \n",
    "inp = \"trie\"\n",
    "print(\"Query:\", inp)\n",
    "print(\"Results:\")\n",
    "res, urls = complete_user_query(inp, aol_trie)\n",
    "print(res)\n",
    "print(urls)\n",
    "\n",
    "#NB we assume you return suggested query string only\n",
    "assert res[0] == \"tried and true tattoo\"\n",
    "assert res[1] == \"triest\" or res[1] == \"triethanalomine\"\n"
   ]
  },
  {
   "cell_type": "markdown",
   "metadata": {},
   "source": [
    "## 2.3. [10] Measure suggest speed ##\n",
    "\n",
    "Check how fast your search is working. Consider changing your code if it takes too long on average."
   ]
  },
  {
   "cell_type": "code",
   "execution_count": 27,
   "metadata": {},
   "outputs": [
    {
     "name": "stdout",
     "output_type": "stream",
     "text": [
      "0.00025872727272727267\n"
     ]
    }
   ],
   "source": [
    "import datetime\n",
    "inp_queries = [\"inf\", \"the best \", \"information retrieval\", \"sherlock hol\", \"carnegie mell\", \n",
    "               \"babies r\", \"new york\", \"googol\", \"inter\", \"USA sta\", \"Barbara \"]\n",
    "\n",
    "#TODO: measure avg execution time (in milliseconds) per query and print it out\n",
    "execution_times = [] \n",
    "for query in inp_queries:\n",
    "    result = []\n",
    "    start_time = datetime.datetime.now()\n",
    "    if (aol_trie.has_node(query) == pygtrie.Trie.HAS_SUBTRIE or aol_trie.has_node(query) == pygtrie.Trie.HAS_VALUE):\n",
    "        for key, val in aol_trie.iteritems(query):\n",
    "            result.append((key, val))\n",
    "    end_time = datetime.datetime.now()\n",
    "    execution_times.append((end_time-start_time).total_seconds())\n",
    "\n",
    "print(sum(execution_times)/len(execution_times))"
   ]
  },
  {
   "cell_type": "markdown",
   "metadata": {},
   "source": [
    "## 2.4. [5] Question\n",
    "What is the empirical threshold for minimal prefix length for suggest query? Write your answer in a cell bellow and justify it (just few sentences)."
   ]
  },
  {
   "cell_type": "markdown",
   "metadata": {},
   "source": [
    "Since the majority of \"serving\" words such as prepositions, pronouns, articles are of length 2,3, and the word that convey meaning to the query are mostly of a length greater than 3, it is better to set the minimal threshold as 4. "
   ]
  },
  {
   "cell_type": "markdown",
   "metadata": {},
   "source": [
    "## 2.5. [+10] Add spellchecking to your suggest\n",
    "\n",
    "Try to make your search results as close as possible. Compare top-5 results of each query with top-5 results for corrected."
   ]
  },
  {
   "cell_type": "code",
   "execution_count": 29,
   "metadata": {},
   "outputs": [],
   "source": [
    "inp_queries = [\"inormation retrieval\", \"shelrock hol\", \"carnagie mell\", \"babis r\", \"Barrbara \"]\n",
    "inp_queries_corrected = [\"information retrieval\", \"sherlock hol\", \"carnegie mell\", \"babies r\", \"Barbara \"]\n",
    "\n",
    "#!pip install autocorrect\n",
    "from autocorrect import Speller\n",
    "\n",
    "spell = Speller(lang='en')\n",
    "\n",
    "\n",
    "\n",
    "def complete_user_query_with_spellchecker(query, trie, top_k=5):\n",
    "    #TODO: suggest top_k options for a user query\n",
    "    # sort results by frequency, suggest first ranked urls if available\n",
    "    corrected_query = []\n",
    "    for word in query.split(' '):\n",
    "        if len(word)>4:\n",
    "            corrected_query.append(spell(word))\n",
    "        else:\n",
    "            corrected_query.append(word)\n",
    "    corrected_query = (\" \".join(corrected_query))\n",
    "    return complete_user_query(corrected_query, trie, top_k=top_k)\n",
    "\n",
    "\n",
    "for q, qc in zip(inp_queries, inp_queries_corrected):\n",
    "    assert  complete_user_query(qc, aol_trie, 5) == \\\n",
    "            complete_user_query_with_spellchecker(q, aol_trie, 5), \"Assert {} and {} give different results\".format(q, qc)"
   ]
  }
 ],
 "metadata": {
  "kernelspec": {
   "display_name": "Python 3",
   "language": "python",
   "name": "python3"
  },
  "language_info": {
   "codemirror_mode": {
    "name": "ipython",
    "version": 3
   },
   "file_extension": ".py",
   "mimetype": "text/x-python",
   "name": "python",
   "nbconvert_exporter": "python",
   "pygments_lexer": "ipython3",
   "version": "3.8.8"
  }
 },
 "nbformat": 4,
 "nbformat_minor": 4
}
