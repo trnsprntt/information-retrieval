{
 "cells": [
  {
   "cell_type": "markdown",
   "metadata": {},
   "source": [
    "# 1. [65] Authentication in a service"
   ]
  },
  {
   "cell_type": "markdown",
   "metadata": {},
   "source": [
    "## 1.1. [25] What do you store in your Google Drive?\n",
    "\n",
    "Sometimes it can be quite troublesome to crawl web data - for example, when you can't just collect data from web-pages because the authentification to a website is required. Today's tutorial is about a dataset of special type - namely, Google Drive data. You will need to get access to the system using OAuth protocol, download and parse files of different types.\n",
    "\n",
    "Plan. \n",
    "1. Download [this little archive](https://drive.google.com/open?id=1Xji4A_dEAm_ycnO0Eq6vxj7ThcqZyJZR), **unzip** it and place the folder anywhere inside your Google Drive. You should get a subtree of 6 folders with files of different types: presentations, pdf-files, texts, and even code.\n",
    "2. Go to [Google Drive API](https://developers.google.com/drive/api/v3/quickstart/python) documentation, read [intro](https://developers.google.com/drive/api/v3/about-sdk) and learn how to [search for files](https://developers.google.com/drive/api/v3/reference/files/list) and [download](https://developers.google.com/drive/api/v3/manage-downloads) them. Pay attention, that  working at `localhost` (jupyter) and at `google colab` can be slighty different. We expect you to run from localhost.\n",
    "3. Learn how to open from python such files as [pptx](https://python-pptx.readthedocs.io/en/latest/user/quickstart.html), pdf, docx or even use generalized libraries like [textract](https://textract.readthedocs.io/en/stable/index.html), save internal text in a file near.\n",
    "4. Write a code with returns names (with paths) of files for a given substring. Test on these queries.\n",
    "```\n",
    "segmentation\n",
    "algorithm\n",
    "classifer\n",
    "printf\n",
    "predecessor\n",
    "Шеннон\n",
    "Huffman\n",
    "function\n",
    "constructor\n",
    "machine learning\n",
    "dataset\n",
    "Протасов\n",
    "Protasov\n",
    "```"
   ]
  },
  {
   "cell_type": "markdown",
   "metadata": {},
   "source": [
    "### 1.1.1. Access GDrive ###\n",
    "\n",
    "Below is the example of how you can oranize your code - it's fine if you change it.\n",
    "\n",
    "Let's extract the list of all files that are contained (recursively) in the folder of interest.\n",
    "\n",
    "Refer to API:\n",
    "- [/list files](https://developers.google.com/drive/api/v3/reference/files#resource)\n",
    "- Use `webContentLink` property or [/get](https://developers.google.com/drive/api/v3/reference/files/get) method to download content."
   ]
  },
  {
   "cell_type": "code",
   "execution_count": 7,
   "metadata": {},
   "outputs": [
    {
     "name": "stdout",
     "output_type": "stream",
     "text": [
      "Found existing installation: textract 1.6.3\n",
      "Uninstalling textract-1.6.3:\n",
      "  Successfully uninstalled textract-1.6.3\n",
      "\u001b[33mWARNING: Skipping tensorflow as it is not installed.\u001b[0m\n",
      "\u001b[33mWARNING: Skipping google-api-python-client as it is not installed.\u001b[0m\n",
      "\u001b[33mWARNING: Skipping google-auth-httplib2 as it is not installed.\u001b[0m\n",
      "\u001b[33mWARNING: Skipping google-auth-oauthlib as it is not installed.\u001b[0m\n",
      "Found existing installation: six 1.12.0\n",
      "Uninstalling six-1.12.0:\n",
      "  Successfully uninstalled six-1.12.0\n",
      "\u001b[33mWARNING: Skipping google-api-core as it is not installed.\u001b[0m\n",
      "\u001b[33mWARNING: Skipping tensorboard as it is not installed.\u001b[0m\n",
      "Defaulting to user installation because normal site-packages is not writeable\n",
      "Collecting six==1.15.0\n",
      "  Using cached six-1.15.0-py2.py3-none-any.whl (10 kB)\n",
      "Installing collected packages: six\n",
      "Successfully installed six-1.15.0\n",
      "Defaulting to user installation because normal site-packages is not writeable\n",
      "Collecting google-api-python-client\n",
      "  Using cached google_api_python_client-2.1.0-py2.py3-none-any.whl (6.6 MB)\n",
      "Collecting google-auth-httplib2\n",
      "  Using cached google_auth_httplib2-0.1.0-py2.py3-none-any.whl (9.3 kB)\n",
      "Collecting google-auth-oauthlib\n",
      "  Using cached google_auth_oauthlib-0.4.4-py2.py3-none-any.whl (18 kB)\n",
      "Requirement already satisfied: httplib2<1dev,>=0.15.0 in /home/olya/.local/lib/python3.6/site-packages (from google-api-python-client) (0.19.1)\n",
      "Collecting google-api-core<2dev,>=1.21.0\n",
      "  Using cached google_api_core-1.26.3-py2.py3-none-any.whl (93 kB)\n",
      "Requirement already satisfied: six<2dev,>=1.13.0 in /home/olya/.local/lib/python3.6/site-packages (from google-api-python-client) (1.15.0)\n",
      "Requirement already satisfied: uritemplate<4dev,>=3.0.0 in /home/olya/.local/lib/python3.6/site-packages (from google-api-python-client) (3.0.1)\n",
      "Requirement already satisfied: google-auth<2dev,>=1.16.0 in /home/olya/.local/lib/python3.6/site-packages (from google-api-python-client) (1.21.2)\n",
      "Requirement already satisfied: requests<3.0.0dev,>=2.18.0 in /home/olya/.local/lib/python3.6/site-packages (from google-api-core<2dev,>=1.21.0->google-api-python-client) (2.25.1)\n",
      "Requirement already satisfied: googleapis-common-protos<2.0dev,>=1.6.0 in /home/olya/.local/lib/python3.6/site-packages (from google-api-core<2dev,>=1.21.0->google-api-python-client) (1.53.0)\n",
      "Requirement already satisfied: setuptools>=40.3.0 in /home/olya/.local/lib/python3.6/site-packages (from google-api-core<2dev,>=1.21.0->google-api-python-client) (50.3.0)\n",
      "Requirement already satisfied: packaging>=14.3 in /home/olya/.local/lib/python3.6/site-packages (from google-api-core<2dev,>=1.21.0->google-api-python-client) (20.4)\n",
      "Requirement already satisfied: protobuf>=3.12.0 in /home/olya/.local/lib/python3.6/site-packages (from google-api-core<2dev,>=1.21.0->google-api-python-client) (3.13.0)\n",
      "Requirement already satisfied: pytz in /home/olya/.local/lib/python3.6/site-packages (from google-api-core<2dev,>=1.21.0->google-api-python-client) (2020.1)\n",
      "Requirement already satisfied: pyasn1-modules>=0.2.1 in /home/olya/.local/lib/python3.6/site-packages (from google-auth<2dev,>=1.16.0->google-api-python-client) (0.2.8)\n",
      "Requirement already satisfied: cachetools<5.0,>=2.0.0 in /home/olya/.local/lib/python3.6/site-packages (from google-auth<2dev,>=1.16.0->google-api-python-client) (4.1.1)\n",
      "Requirement already satisfied: rsa<5,>=3.1.4 in /home/olya/.local/lib/python3.6/site-packages (from google-auth<2dev,>=1.16.0->google-api-python-client) (4.6)\n",
      "Requirement already satisfied: pyparsing<3,>=2.4.2 in /home/olya/.local/lib/python3.6/site-packages (from httplib2<1dev,>=0.15.0->google-api-python-client) (2.4.7)\n",
      "Requirement already satisfied: pyasn1<0.5.0,>=0.4.6 in /home/olya/.local/lib/python3.6/site-packages (from pyasn1-modules>=0.2.1->google-auth<2dev,>=1.16.0->google-api-python-client) (0.4.8)\n",
      "Requirement already satisfied: chardet<5,>=3.0.2 in /home/olya/.local/lib/python3.6/site-packages (from requests<3.0.0dev,>=2.18.0->google-api-core<2dev,>=1.21.0->google-api-python-client) (3.0.4)\n",
      "Requirement already satisfied: certifi>=2017.4.17 in /home/olya/.local/lib/python3.6/site-packages (from requests<3.0.0dev,>=2.18.0->google-api-core<2dev,>=1.21.0->google-api-python-client) (2020.6.20)\n",
      "Requirement already satisfied: urllib3<1.27,>=1.21.1 in /home/olya/.local/lib/python3.6/site-packages (from requests<3.0.0dev,>=2.18.0->google-api-core<2dev,>=1.21.0->google-api-python-client) (1.24.2)\n",
      "Requirement already satisfied: idna<3,>=2.5 in /home/olya/.local/lib/python3.6/site-packages (from requests<3.0.0dev,>=2.18.0->google-api-core<2dev,>=1.21.0->google-api-python-client) (2.7)\n",
      "Requirement already satisfied: requests-oauthlib>=0.7.0 in /home/olya/.local/lib/python3.6/site-packages (from google-auth-oauthlib) (1.3.0)\n",
      "Requirement already satisfied: oauthlib>=3.0.0 in /home/olya/.local/lib/python3.6/site-packages (from requests-oauthlib>=0.7.0->google-auth-oauthlib) (3.1.0)\n",
      "Installing collected packages: google-auth-httplib2, google-api-core, google-auth-oauthlib, google-api-python-client\n",
      "Successfully installed google-api-core-1.26.3 google-api-python-client-2.1.0 google-auth-httplib2-0.1.0 google-auth-oauthlib-0.4.4\n"
     ]
    }
   ],
   "source": [
    "# install some dependencies\n",
    "!pip uninstall -y textract tensorflow google-api-python-client google-auth-httplib2 google-auth-oauthlib six google-api-core tensorboard\n",
    "!pip install six==1.15.0\n",
    "!pip install --upgrade google-api-python-client google-auth-httplib2 google-auth-oauthlib"
   ]
  },
  {
   "cell_type": "code",
   "execution_count": 8,
   "metadata": {},
   "outputs": [
    {
     "name": "stdout",
     "output_type": "stream",
     "text": [
      "Successfully created a service\n"
     ]
    }
   ],
   "source": [
    "import importlib\n",
    "import six\n",
    "importlib.reload(six)\n",
    "\n",
    "import os.path\n",
    "from googleapiclient.discovery import build\n",
    "from google_auth_oauthlib.flow import InstalledAppFlow\n",
    "from google.auth.transport.requests import Request\n",
    "from google.oauth2.credentials import Credentials\n",
    "  \n",
    "# Define the SCOPES\n",
    "SCOPES = ['https://www.googleapis.com/auth/drive']\n",
    "\n",
    "service = None\n",
    "creds = None\n",
    "if os.path.exists('token.json'):\n",
    "    creds = Credentials.from_authorized_user_file('token.json', SCOPES)\n",
    "\n",
    "# If there are no (valid) credentials available, let the user log in.\n",
    "\n",
    "# if not creds or not creds.valid:\n",
    "#     if creds and creds.expired and creds.refresh_token:\n",
    "#         creds.refresh(Request())\n",
    "#         print(\"REFRESHED\")\n",
    "#     else:\n",
    "#         flow = InstalledAppFlow.from_client_secrets_file(\n",
    "#             'credentials.json', SCOPES)\n",
    "#         creds = flow.run_local_server(port=0)\n",
    "#     # Save the credentials for the next run\n",
    "#     with open('token.json', 'w') as token:\n",
    "#         token.write(creds.to_json())\n",
    "\n",
    "service = build('drive', 'v3', credentials=creds)\n",
    "print(\"Successfully created a service\")"
   ]
  },
  {
   "cell_type": "code",
   "execution_count": 9,
   "metadata": {},
   "outputs": [],
   "source": [
    "import io\n",
    "from googleapiclient.http import MediaIoBaseDownload\n",
    "resource = service.files()\n",
    "def search_with_query(query):\n",
    "    page_token = None\n",
    "    files = []\n",
    "    while True:\n",
    "        response = resource.list(q=query,\n",
    "                                 fields='nextPageToken, files(id, name)',\n",
    "                                 pageToken=page_token).execute()\n",
    "        \n",
    "        files = files + response.get('files', [])\n",
    "        page_token = response.get('nextPageToken', None)\n",
    "        if page_token is None:\n",
    "            break\n",
    "    return files\n",
    "\n",
    "def gdrive_get_all_files_in_folder(folder_name):\n",
    "    #TODO retrieve all file information from a given folder   \n",
    "    # refer to API for details https://developers.google.com/drive/api/v3/reference/files#resource \n",
    "    # response can be the list of any type metadata (ids, dictionaries, ...)\n",
    "    result = resource.list(fields=\"files(id, name, parents, mimeType)\").execute()\n",
    "    gdrive_file_list = result.get('files')\n",
    "    target_folder = search_with_query(\"name='{}'\".format(folder_name))\n",
    "    \n",
    "    if len(target_folder)!=1:\n",
    "        if len(target_folder)>1:\n",
    "            raise Exception(\"More than one {} folder was found\".format(folder_name))\n",
    "        else:\n",
    "            raise Exception(\"No folder named {} was found\".format(folder_name))\n",
    "    \n",
    "    target_id = target_folder[0]['id']\n",
    "    file_list = search_with_query(\"'{}' in parents and mimeType != 'application/vnd.google-apps.folder'\".format(target_id))\n",
    "    \n",
    "    folder_list = search_with_query(\"'{}' in parents and mimeType = 'application/vnd.google-apps.folder'\".format(target_id))\n",
    "\n",
    "    while True:\n",
    "        if len(folder_list)==0:\n",
    "            break\n",
    "        else:\n",
    "            folder_id = folder_list[0]['id']\n",
    "            folder_list.pop(0)\n",
    "\n",
    "            new_folder_list = search_with_query(\"'{}' in parents and mimeType = 'application/vnd.google-apps.folder'\".format(folder_id))\n",
    "            folder_list = folder_list + new_folder_list\n",
    "            \n",
    "            new_file_list = search_with_query(\"'{}' in parents and mimeType != 'application/vnd.google-apps.folder'\".format(folder_id))\n",
    "            file_list = file_list + new_file_list\n",
    "    \n",
    "    formatted_file_list = []\n",
    "    for file in file_list:\n",
    "        formatted_file_list.append([file['id'],file['name']])\n",
    "        \n",
    "    return formatted_file_list\n",
    "\n",
    "def gdrive_download_file(file, folder_to_save): \n",
    "    #TODO download file and save it in `folder_to_save` folder\n",
    "    file_id = file[0]\n",
    "    filename = file[1]\n",
    "    if not os.path.exists(folder_to_save):\n",
    "        os.mkdir(folder_to_save)\n",
    "    request = resource.get_media(fileId=file_id)\n",
    "    if os.path.exists(os.path.join(folder_to_save, filename)):\n",
    "        print(\"File {} already exists in {}. \\nIt was not downloaded again\".format(filename,folder_to_save))\n",
    "        pass\n",
    "    else:\n",
    "        fh = io.FileIO(os.path.join(folder_to_save, filename), 'wb')\n",
    "        downloader = MediaIoBaseDownload(fh, request)\n",
    "        done = False\n",
    "        while done is False:\n",
    "            status, done = downloader.next_chunk()\n",
    "            print (\"Download %d%%.\" % int(status.progress() * 100))\n",
    "    pass"
   ]
  },
  {
   "cell_type": "code",
   "execution_count": 10,
   "metadata": {},
   "outputs": [
    {
     "name": "stdout",
     "output_type": "stream",
     "text": [
      "File hockey.avi already exists in test_files. \n",
      "It was not downloaded again\n",
      "File at least this file.txt already exists in test_files. \n",
      "It was not downloaded again\n",
      "File deep-features-scene (1).pdf already exists in test_files. \n",
      "It was not downloaded again\n",
      "File grant-translate.txt already exists in test_files. \n",
      "It was not downloaded again\n",
      "File grant.txt already exists in test_files. \n",
      "It was not downloaded again\n",
      "File Small dataset face recognition.pptx already exists in test_files. \n",
      "It was not downloaded again\n",
      "File students.txt already exists in test_files. \n",
      "It was not downloaded again\n",
      "File Tutorial 9.pdf already exists in test_files. \n",
      "It was not downloaded again\n",
      "File Assessment Criteria (May).pdf already exists in test_files. \n",
      "It was not downloaded again\n",
      "File AY16-17 Academic Calendar .pdf already exists in test_files. \n",
      "It was not downloaded again\n",
      "File retake-2016-08-18.docx already exists in test_files. \n",
      "It was not downloaded again\n",
      "File dsa.pdf already exists in test_files. \n",
      "It was not downloaded again\n",
      "File FuncnNEW.pdf already exists in test_files. \n",
      "It was not downloaded again\n",
      "File Tutorial #8.pdf already exists in test_files. \n",
      "It was not downloaded again\n",
      "File [DM]-Course Description.docx already exists in test_files. \n",
      "It was not downloaded again\n",
      "File neuro.html already exists in test_files. \n",
      "It was not downloaded again\n",
      "File nn.cpp already exists in test_files. \n",
      "It was not downloaded again\n",
      "File rdtsc-vc.cpp already exists in test_files. \n",
      "It was not downloaded again\n",
      "File rdtsc-gcc.c already exists in test_files. \n",
      "It was not downloaded again\n",
      "File cyclomat.c already exists in test_files. \n",
      "It was not downloaded again\n",
      "File lockexamples.c already exists in test_files. \n",
      "It was not downloaded again\n",
      "File Program.cs already exists in test_files. \n",
      "It was not downloaded again\n",
      "File skiplist.js already exists in test_files. \n",
      "It was not downloaded again\n",
      "File bloomset.js already exists in test_files. \n",
      "It was not downloaded again\n",
      "File sort.js already exists in test_files. \n",
      "It was not downloaded again\n",
      "File origin-06.mp3 already exists in test_files. \n",
      "It was not downloaded again\n",
      "File origin-05.mp3 already exists in test_files. \n",
      "It was not downloaded again\n",
      "File 3cases.pdf already exists in test_files. \n",
      "It was not downloaded again\n",
      "File L5-problems-2015.pdf already exists in test_files. \n",
      "It was not downloaded again\n",
      "File ai-junior.pdf already exists in test_files. \n",
      "It was not downloaded again\n",
      "File DSA_09 - 2-3-4 and B-Trees.pdf already exists in test_files. \n",
      "It was not downloaded again\n",
      "File cs.pdf already exists in test_files. \n",
      "It was not downloaded again\n",
      "File DSA_15 Lion in the desert.pptx already exists in test_files. \n",
      "It was not downloaded again\n",
      "File MS2 - Problems of multithread programming.pptx already exists in test_files. \n",
      "It was not downloaded again\n"
     ]
    }
   ],
   "source": [
    "# specify your folder name\n",
    "folder_of_interest = 'data'\n",
    "\n",
    "files = gdrive_get_all_files_in_folder(folder_of_interest)\n",
    "\n",
    "test_dir = \"test_files\"   # we save the data here\n",
    "for item in files:\n",
    "    gdrive_download_file(item, test_dir)"
   ]
  },
  {
   "cell_type": "markdown",
   "metadata": {},
   "source": [
    "### 1.1.2. Tests ###\n",
    "Please fill free to change function signatures and behaviour. Please do not change asserts."
   ]
  },
  {
   "cell_type": "code",
   "execution_count": 11,
   "metadata": {},
   "outputs": [
    {
     "name": "stdout",
     "output_type": "stream",
     "text": [
      "n_files: 34\n",
      "file here means id and name, e.g.:  ['1UJEZz4alGqtZWwT0NUcHvsRluEw5yLgJ', 'hockey.avi']\n",
      "File hockey.avi already exists in .. \n",
      "It was not downloaded again\n"
     ]
    }
   ],
   "source": [
    "assert len(files) == 34, 'Number of files is incorrect'\n",
    "print('n_files:', len(files))\n",
    "\n",
    "print(\"file here means id and name, e.g.: \", files[0])\n",
    "\n",
    "gdrive_download_file(files[0], '.')\n",
    "\n",
    "import os.path\n",
    "assert os.path.isfile(os.path.join('.', files[0][1])), \"File is not downloaded correctly\""
   ]
  },
  {
   "cell_type": "markdown",
   "metadata": {},
   "source": [
    "## 1.2. [20] Read files content\n",
    "### 1.2.1. Read"
   ]
  },
  {
   "cell_type": "code",
   "execution_count": 12,
   "metadata": {},
   "outputs": [
    {
     "name": "stdout",
     "output_type": "stream",
     "text": [
      "\u001b[33mWARNING: Skipping textract as it is not installed.\u001b[0m\n",
      "\u001b[33mWARNING: Skipping tensorflow as it is not installed.\u001b[0m\n",
      "Found existing installation: google-api-python-client 2.1.0\n",
      "Uninstalling google-api-python-client-2.1.0:\n",
      "  Successfully uninstalled google-api-python-client-2.1.0\n",
      "Found existing installation: google-auth-httplib2 0.1.0\n",
      "Uninstalling google-auth-httplib2-0.1.0:\n",
      "  Successfully uninstalled google-auth-httplib2-0.1.0\n",
      "Found existing installation: google-auth-oauthlib 0.4.4\n",
      "Uninstalling google-auth-oauthlib-0.4.4:\n",
      "  Successfully uninstalled google-auth-oauthlib-0.4.4\n",
      "Found existing installation: six 1.15.0\n",
      "Uninstalling six-1.15.0:\n",
      "  Successfully uninstalled six-1.15.0\n",
      "Found existing installation: google-api-core 1.26.3\n",
      "Uninstalling google-api-core-1.26.3:\n",
      "  Successfully uninstalled google-api-core-1.26.3\n",
      "\u001b[33mWARNING: Skipping tensorboard as it is not installed.\u001b[0m\n",
      "Defaulting to user installation because normal site-packages is not writeable\n",
      "Requirement already satisfied: chardet in /home/olya/.local/lib/python3.6/site-packages (3.0.4)\n",
      "Collecting six==1.12.0\n",
      "  Using cached six-1.12.0-py2.py3-none-any.whl (10 kB)\n",
      "Installing collected packages: six\n",
      "Successfully installed six-1.12.0\n",
      "Defaulting to user installation because normal site-packages is not writeable\n",
      "Collecting textract\n",
      "  Using cached textract-1.6.3-py3-none-any.whl (21 kB)\n",
      "Requirement already satisfied: chardet==3.0.4 in /home/olya/.local/lib/python3.6/site-packages (from textract) (3.0.4)\n",
      "Requirement already satisfied: EbookLib==0.17.1 in /home/olya/.local/lib/python3.6/site-packages (from textract) (0.17.1)\n",
      "Requirement already satisfied: docx2txt==0.8 in /home/olya/.local/lib/python3.6/site-packages (from textract) (0.8)\n",
      "Requirement already satisfied: argcomplete==1.10.0 in /home/olya/.local/lib/python3.6/site-packages (from textract) (1.10.0)\n",
      "Requirement already satisfied: extract-msg==0.23.1 in /home/olya/.local/lib/python3.6/site-packages (from textract) (0.23.1)\n",
      "Requirement already satisfied: SpeechRecognition==3.8.1 in /home/olya/.local/lib/python3.6/site-packages (from textract) (3.8.1)\n",
      "Requirement already satisfied: six==1.12.0 in /home/olya/.local/lib/python3.6/site-packages (from textract) (1.12.0)\n",
      "Requirement already satisfied: python-pptx==0.6.18 in /home/olya/.local/lib/python3.6/site-packages (from textract) (0.6.18)\n",
      "Requirement already satisfied: xlrd==1.2.0 in /home/olya/.local/lib/python3.6/site-packages (from textract) (1.2.0)\n",
      "Requirement already satisfied: beautifulsoup4==4.8.0 in /home/olya/.local/lib/python3.6/site-packages (from textract) (4.8.0)\n",
      "Requirement already satisfied: pdfminer.six==20181108 in /home/olya/.local/lib/python3.6/site-packages (from textract) (20181108)\n",
      "Requirement already satisfied: soupsieve>=1.2 in /home/olya/.local/lib/python3.6/site-packages (from beautifulsoup4==4.8.0->textract) (2.2.1)\n",
      "Requirement already satisfied: lxml in /home/olya/.local/lib/python3.6/site-packages (from EbookLib==0.17.1->textract) (4.6.3)\n",
      "Requirement already satisfied: olefile==0.46 in /home/olya/.local/lib/python3.6/site-packages (from extract-msg==0.23.1->textract) (0.46)\n",
      "Requirement already satisfied: imapclient==2.1.0 in /home/olya/.local/lib/python3.6/site-packages (from extract-msg==0.23.1->textract) (2.1.0)\n",
      "Requirement already satisfied: tzlocal==1.5.1 in /home/olya/.local/lib/python3.6/site-packages (from extract-msg==0.23.1->textract) (1.5.1)\n",
      "Requirement already satisfied: sortedcontainers in /home/olya/.local/lib/python3.6/site-packages (from pdfminer.six==20181108->textract) (2.3.0)\n",
      "Requirement already satisfied: pycryptodome in /home/olya/.local/lib/python3.6/site-packages (from pdfminer.six==20181108->textract) (3.9.7)\n",
      "Requirement already satisfied: XlsxWriter>=0.5.7 in /home/olya/.local/lib/python3.6/site-packages (from python-pptx==0.6.18->textract) (1.3.8)\n",
      "Requirement already satisfied: Pillow>=3.3.2 in /home/olya/.local/lib/python3.6/site-packages (from python-pptx==0.6.18->textract) (7.2.0)\n",
      "Requirement already satisfied: pytz in /home/olya/.local/lib/python3.6/site-packages (from tzlocal==1.5.1->extract-msg==0.23.1->textract) (2020.1)\n",
      "Installing collected packages: textract\n",
      "Successfully installed textract-1.6.3\n"
     ]
    }
   ],
   "source": [
    "# install dependencies\n",
    "!pip uninstall -y textract tensorflow google-api-python-client google-auth-httplib2 google-auth-oauthlib six google-api-core tensorboard\n",
    "!pip install chardet six==1.12.0\n",
    "!pip install textract"
   ]
  },
  {
   "cell_type": "markdown",
   "metadata": {},
   "source": [
    "For windows please refer to:\n",
    "- [textract docs](https://textract.readthedocs.io/en/latest/installation.html#don-t-see-your-operating-system-installation-instructions-here)\n",
    "- [xpdf reader docs](https://www.xpdfreader.com/download.html)\n",
    "\n",
    "**NB**: BE CAREFUL WITH SPACES IN NAMES. Better save without spaces in names."
   ]
  },
  {
   "cell_type": "code",
   "execution_count": 20,
   "metadata": {},
   "outputs": [],
   "source": [
    "import importlib\n",
    "import six\n",
    "importlib.reload(six)\n",
    "\n",
    "import textract \n",
    "import chardet\n",
    "import os\n",
    "import unicodedata\n",
    "\n",
    "def apply_textract(path):\n",
    "    texts = None\n",
    "    \n",
    "    try:\n",
    "        texts = textract.process(path)\n",
    "    except:\n",
    "        try:\n",
    "            texts = textract.process(path, method='pdfminer')\n",
    "        except:\n",
    "            texts = textract.process(path, method='tesseract')\n",
    "            \n",
    "    if texts is None:\n",
    "        return texts\n",
    "    else:\n",
    "        texts = texts.decode('utf-8')\n",
    "        texts = unicodedata.normalize('NFKD', texts)\n",
    "        return texts.replace('\\\\n', '\\n').replace('\\\\r', '').split('\\n')\n",
    "        \n",
    "def apply_textract_txt(path):\n",
    "    texts = None\n",
    "    try:\n",
    "        texts = textract.process(path,extension='txt')\n",
    "    except:\n",
    "        pass\n",
    "    if texts is None:\n",
    "        return texts\n",
    "    else:\n",
    "        texts = texts.decode('utf-8')\n",
    "        texts = unicodedata.normalize('NFKD', texts)\n",
    "        return texts.replace('\\\\n', '\\n').replace('\\\\r', '').split('\\n')\n",
    "    \n",
    "def parse_audio(path):\n",
    "    return None\n",
    "\n",
    "def parse_video(path):\n",
    "    return None\n",
    "\n",
    "def get_file_strings(path):\n",
    "    texts = None\n",
    "    ext = os.path.splitext(path)[1].strip()\n",
    "    \n",
    "    if ext in ['.mp3','.wav','.ogg']:\n",
    "        texts = parse_audio(path)\n",
    "        return texts\n",
    "    \n",
    "    if ext in ['.avi','.mp4','.mov']:\n",
    "        texts = parse_video(path)\n",
    "        return texts\n",
    "    \n",
    "    try:\n",
    "        texts = apply_textract(path)\n",
    "        if texts is not None:\n",
    "            return texts\n",
    "    except:\n",
    "        pass\n",
    "\n",
    "    try:\n",
    "        os.rename(path,os.path.splitext(path)[0].strip())\n",
    "        texts = apply_textract_txt(os.path.splitext(path)[0].strip())\n",
    "        os.rename(os.path.splitext(path)[0].strip(),path)\n",
    "        if texts is not None:\n",
    "            return texts\n",
    "    except:\n",
    "        try:\n",
    "            os.rename(os.path.splitext(path)[0].strip(),path)\n",
    "        except:\n",
    "            pass\n",
    "    \n",
    "    try:\n",
    "        texts = open(path, 'rb').read()\n",
    "        encode = chardet.detect(texts)['encoding']\n",
    "        with open(path, encoding=encode) as file:\n",
    "            texts = file.read()\n",
    "            return texts.replace('\\\\n', '\\n').replace('\\\\r', '').split('\\n')\n",
    "    except:\n",
    "        pass\n",
    "\n",
    "    \n",
    "    return texts\n"
   ]
  },
  {
   "cell_type": "code",
   "execution_count": null,
   "metadata": {},
   "outputs": [],
   "source": [
    "# creating dictionary of parsed files\n",
    "files_data = dict()\n",
    "for file in os.scandir(test_dir): \n",
    "    strings = get_file_strings(file.path)\n",
    "    if strings:\n",
    "        files_data[file.name] = strings"
   ]
  },
  {
   "cell_type": "markdown",
   "metadata": {},
   "source": [
    "### 1.2.2. Tests for read"
   ]
  },
  {
   "cell_type": "code",
   "execution_count": 15,
   "metadata": {},
   "outputs": [
    {
     "name": "stdout",
     "output_type": "stream",
     "text": [
      "31\n"
     ]
    }
   ],
   "source": [
    "print(len(files_data))\n",
    "assert len(files_data) == 31 \n",
    "\n",
    "\n",
    "assert \"Protasov\" in get_file_strings(os.path.join(test_dir, 'at least this file.txt')), \"TXT File parsed incorrectly\"\n",
    "assert \"A. Image classification\" in get_file_strings(os.path.join(test_dir, 'deep-features-scene (1).pdf')), \"PDF File parsed incorrectly\""
   ]
  },
  {
   "cell_type": "markdown",
   "metadata": {},
   "source": [
    "## 1.3. [20] Tests"
   ]
  },
  {
   "cell_type": "code",
   "execution_count": 18,
   "metadata": {},
   "outputs": [],
   "source": [
    "def find(query):\n",
    "    #TODO implement search procedure\n",
    "    results = []\n",
    "    for key in files_data.keys():\n",
    "        if query in key:\n",
    "            results.append(key)\n",
    "        else:\n",
    "            for line in files_data[key]:\n",
    "                if query in line:\n",
    "                    results.append(key)\n",
    "                    break\n",
    "    return results"
   ]
  },
  {
   "cell_type": "code",
   "execution_count": 19,
   "metadata": {},
   "outputs": [],
   "source": [
    "queries = [\"segmentation\", \"algorithm\", \"printf\", \"predecessor\", \"Huffman\",\n",
    "           \"function\", \"constructor\", \"machine learning\", \"dataset\", \"Protasov\"]\n",
    "\n",
    "for query in queries:\n",
    "    r = find(query)\n",
    "#     print(\"Results for: \", query)\n",
    "#     print(\"\\t\", r)\n",
    "    assert len(r) > 0, \"Query should return at least 1 document\"\n",
    "    assert len(r) > 1, \"Query should return at least 2 documents\"\n",
    "    assert \"at least this file.txt\" in r, \"This file has all the queries. It should be in a result\""
   ]
  },
  {
   "cell_type": "markdown",
   "metadata": {},
   "source": [
    "# 2. [35] Parse me if you can #\n",
    "\n",
    "Sometimes when crawling we have to parse websites that turn out to be SaaS - i.e., there is a special JS application which renders documents and which is downloaded first. Therefore, data that is to be rendered initially comes in a proprietary format. One of the examples is Google Drive. Last time we downladed and parsed some files from GDrive, however, we didn't parse GDrive-specific file formats, such as google sheets or google slides.\n",
    "\n",
    "Today we will learn to obtain and parse such data using Selenium - a special framework for testing web-applications.\n",
    "\n",
    "## 2.1. [5] Getting started\n",
    "\n",
    "Let's try to load and parse the page the way we did before:"
   ]
  },
  {
   "cell_type": "code",
   "execution_count": 1,
   "metadata": {},
   "outputs": [
    {
     "name": "stdout",
     "output_type": "stream",
     "text": [
      "Не удалось открыть файл, поскольку в вашем браузере отключено использование JavaScript. Включите его и перезагрузите страницу.Некоторые функции PowerPoint не поддерживаются в Google Презентациях. Они будут удалены, если вы измените документ.Подробнее…6. Approximate nearest neighbours search 2. Trees   Смотреть  Открыть доступВойтиИспользуемая вами версия браузера больше не поддерживается. Установите поддерживаемую версию браузера.Закрытьdocument.getElementById('docs-unsupported-browser-bar').addEventListener('click', function () {this.parentNode.parentNode.removeChild(this.parentNode);return false;});ФайлПравкаВидСправкаСпециальные возможностиОтладкаНесохраненные изменения: ДискПоследние изменения      Специальные возможности  Только просмотр     DOCS_timing['che'] = new Date().getTime();DOCS_timing['chv'] = new Date().getTime();Презентация в виде HTML(function(){/*\n",
      "\n",
      " Copyright The Closure Library Authors.\n",
      " SPDX-License-Identifier: Apache-2.0\n",
      "*/\n",
      "var a=this||self;function c(b){this.i=b;\n"
     ]
    }
   ],
   "source": [
    "import requests\n",
    "from bs4 import BeautifulSoup\n",
    "resp = requests.get(\"https://docs.google.com/presentation/d/1LuZvz3axBD8UuHLagdv0EbhsGEWJmpd7gN5KjwYCp9Y/edit?usp=sharing\")\n",
    "soup = BeautifulSoup(resp.text, 'lxml')\n",
    "print(soup.body.text[:1000])"
   ]
  },
  {
   "cell_type": "markdown",
   "metadata": {},
   "source": [
    "As we see, the output is not what we expect. So, what can we do when a page is not being loaded right away, but is rather rendered by a script? Browser engines can help us get data. Let's try to load the same web-page, but do it in a different way: let's give some time to a browser to load the scripts and run them; and then will work with DOM (Document Object Model), but will get it from browser engine itself, not from BeautifulSoup.\n",
    "\n",
    "Where do we get browser engine from? Simply installing a browser will do the thing. How do we send commands to it from code and retrieve DOM? Service applications called drivers will interpret out commands and translate them into browser actions.\n",
    "\n",
    "\n",
    "For each browser engine suport you will need to:\n",
    "1. install browser itself;\n",
    "2. download 'driver' - binary executable, which passed commands from selenium to browser. E.g. [Gecko == Firefox](https://github.com/mozilla/geckodriver/releases), [ChromeDriver](http://chromedriver.storage.googleapis.com/index.html);\n",
    "3. unpack driver into a folder under PATH environment variable. Or specify exact binary location.\n",
    "\n",
    "### 2.1.1. Download driver\n",
    "\n",
    "And place it in any folder or under PATH env. variable.\n",
    "\n",
    "### 2.1.2. Install selenium"
   ]
  },
  {
   "cell_type": "code",
   "execution_count": 2,
   "metadata": {},
   "outputs": [
    {
     "name": "stdout",
     "output_type": "stream",
     "text": [
      "Defaulting to user installation because normal site-packages is not writeable\n",
      "Requirement already satisfied: selenium in /home/olya/.local/lib/python3.6/site-packages (3.141.0)\n",
      "Requirement already satisfied: urllib3 in /home/olya/.local/lib/python3.6/site-packages (from selenium) (1.24.2)\n"
     ]
    }
   ],
   "source": [
    "!pip install -U selenium"
   ]
  },
  {
   "cell_type": "code",
   "execution_count": 3,
   "metadata": {},
   "outputs": [],
   "source": [
    "from selenium import webdriver"
   ]
  },
  {
   "cell_type": "markdown",
   "metadata": {},
   "source": [
    "### 2.1.3. Launch browser\n",
    "\n",
    "This will open browser window"
   ]
  },
  {
   "cell_type": "code",
   "execution_count": 4,
   "metadata": {},
   "outputs": [],
   "source": [
    "browser = webdriver.Firefox()\n",
    "# or explicitly\n",
    "# browser = webdriver.Firefox(\n",
    "#     executable_path='/home/olya/Downloads/IR/hw2/geckodriver', \n",
    "#     firefox_binary='/usr/bin/firefox'\n",
    "# )"
   ]
  },
  {
   "cell_type": "markdown",
   "metadata": {},
   "source": [
    "### 2.1.4. Download the page\n"
   ]
  },
  {
   "cell_type": "code",
   "execution_count": 6,
   "metadata": {},
   "outputs": [
    {
     "name": "stdout",
     "output_type": "stream",
     "text": [
      "Elements found: 126\n",
      "What if just a silly approach: Forestsofsearchtrees\n",
      "What if a smart approach: Forests of search trees\n"
     ]
    }
   ],
   "source": [
    "# navigate to page\n",
    "browser.get('http://tiny.cc/00dhkz')\n",
    "browser.implicitly_wait(5)  # wait 5 seconds\n",
    "\n",
    "# select all text parts from document\n",
    "elements = browser.find_elements_by_css_selector(\"g.sketchy-text-content-text\")\n",
    "# note that if number differs from launch to launch this means better extend wait time\n",
    "print(\"Elements found:\", len(elements))\n",
    "\n",
    "# oh no! It glues all the words!\n",
    "print(\"What if just a silly approach:\", elements[0].text)\n",
    "\n",
    "# GDrive stores all text blocks word-by-word\n",
    "subnodes = elements[0].find_elements_by_css_selector(\"text\")\n",
    "text = \" \".join(n.text for n in subnodes)\n",
    "print(\"What if a smart approach:\", text)"
   ]
  },
  {
   "cell_type": "code",
   "execution_count": 7,
   "metadata": {},
   "outputs": [],
   "source": [
    "browser.quit()"
   ]
  },
  {
   "cell_type": "markdown",
   "metadata": {},
   "source": [
    "- Too slow, wait for browser to open, browser to render\n",
    "\n",
    "## 2.2. Headless\n",
    "\n",
    "Browsers (at least [FF](https://developer.mozilla.org/en-US/docs/Mozilla/Firefox/Headless_mode), [Chrome](https://intoli.com/blog/running-selenium-with-headless-chrome/), IE) have headless mode - no window rendering and so on. Means it should work much faster!"
   ]
  },
  {
   "cell_type": "code",
   "execution_count": 22,
   "metadata": {},
   "outputs": [
    {
     "name": "stdout",
     "output_type": "stream",
     "text": [
      "/home/olya/.local/bin:/usr/local/sbin:/usr/local/bin:/usr/sbin:/usr/bin:/sbin:/bin:/usr/games:/usr/local/games:/snap/bin\r\n"
     ]
    }
   ],
   "source": [
    "!echo $PATH\n",
    "options = webdriver.FirefoxOptions()\n",
    "options.add_argument('-headless')\n",
    "options.add_argument('-window-size=1200x600')\n",
    "#browser = webdriver.Firefox(executable_path='/home/olya/Downloads/IR/hw2/geckodriver', \n",
    "#    firefox_binary='/usr/bin/firefox',options=options)\n",
    "browser = webdriver.Firefox(options=options)"
   ]
  },
  {
   "cell_type": "code",
   "execution_count": 9,
   "metadata": {},
   "outputs": [
    {
     "name": "stdout",
     "output_type": "stream",
     "text": [
      "Elements found: 110\n",
      "What if just a silly approach: Forestsofsearchtrees\n",
      "What if a smart approach: Forests of search trees\n"
     ]
    }
   ],
   "source": [
    "## SAME CODE\n",
    "\n",
    "# navigate to page\n",
    "browser.get('http://tiny.cc/00dhkz')\n",
    "browser.implicitly_wait(5)  # wait 5 seconds\n",
    "\n",
    "# select all text parts from document\n",
    "elements = browser.find_elements_by_css_selector(\"g.sketchy-text-content-text\")\n",
    "# note that if number differs from launch to launch this means better extend wait time\n",
    "print(\"Elements found:\", len(elements))\n",
    "\n",
    "# oh no! It adds NEW LINE. Behavior differs!!!!\n",
    "print(\"What if just a silly approach:\", elements[0].text)\n",
    "\n",
    "# GDrive stores all text blocks word-by-word\n",
    "subnodes = elements[0].find_elements_by_css_selector(\"text\")\n",
    "text = \" \".join(n.text for n in subnodes)\n",
    "print(\"What if a smart approach:\", text)"
   ]
  },
  {
   "cell_type": "code",
   "execution_count": 24,
   "metadata": {},
   "outputs": [],
   "source": [
    "browser.quit()"
   ]
  },
  {
   "cell_type": "markdown",
   "metadata": {},
   "source": [
    "## 2.3. [30] Show me what it hides\n",
    "\n",
    "The task shows that dynamic rendering of the web page (which includes javascript execution and remote content loading) can significantly influence page content. That is why when you index such page you'd better rely in what user will see, rather than html page content.\n",
    "\n",
    "Your task is to process the page *after* it is rendered with a browser, and extract all image urls. The test will draw the images, they should sum up into a single picture like in example."
   ]
  },
  {
   "cell_type": "code",
   "execution_count": 19,
   "metadata": {},
   "outputs": [],
   "source": [
    "def get_url_images(url):\n",
    "    '''This function finds all `img` tags at the page, given by `url`. It returns the [list] of `absolute` image urls'''\n",
    "    #TODO: write your code here\n",
    "    #source: https://pythonspot.com/selenium-get-images/\n",
    "    images = []\n",
    "    try:\n",
    "        browser.get(url)\n",
    "        browser.implicitly_wait(5)\n",
    "    except:\n",
    "        return images\n",
    "\n",
    "    for image in browser.find_elements_by_tag_name('img'):\n",
    "        images.append(image.get_attribute('src'))\n",
    "    return images"
   ]
  },
  {
   "cell_type": "markdown",
   "metadata": {},
   "source": [
    "### 2.3.1. Tests\n",
    "\n",
    "Results of the tests whould be the image displayed below the code."
   ]
  },
  {
   "cell_type": "code",
   "execution_count": 20,
   "metadata": {},
   "outputs": [
    {
     "data": {
      "image/png": "[encoded data removed]",
      "text/plain": [
       "<IPython.core.display.Image object>"
      ]
     },
     "metadata": {
      "image/png": {
       "width": 500
      }
     },
     "output_type": "display_data"
    },
    {
     "data": {
      "image/png": "[encoded data removed]",
      "text/plain": [
       "<IPython.core.display.Image object>"
      ]
     },
     "metadata": {
      "image/png": {
       "width": 500
      }
     },
     "output_type": "display_data"
    },
    {
     "data": {
      "image/png": "[encoded data removed]",
      "text/plain": [
       "<IPython.core.display.Image object>"
      ]
     },
     "metadata": {
      "image/png": {
       "width": 500
      }
     },
     "output_type": "display_data"
    }
   ],
   "source": [
    "from IPython.display import Image, display\n",
    "\n",
    "test_urls = [\n",
    "    \"http://sprotasov.ru/files/AIR/2a/simple_static.html\",\n",
    "    \"http://sprotasov.ru/files/AIR/2a/simple_dynamic.html\",\n",
    "    \"http://sprotasov.ru/files/AIR/2a/trick_dynamic.html\"\n",
    "]\n",
    "\n",
    "for url in test_urls:\n",
    "    for img in get_url_images(url):\n",
    "        display(Image(img, width=500))"
   ]
  },
  {
   "cell_type": "code",
   "execution_count": null,
   "metadata": {},
   "outputs": [],
   "source": []
  }
 ],
 "metadata": {
  "kernelspec": {
   "display_name": "Python 3",
   "language": "python",
   "name": "python3"
  },
  "language_info": {
   "codemirror_mode": {
    "name": "ipython",
    "version": 3
   },
   "file_extension": ".py",
   "mimetype": "text/x-python",
   "name": "python",
   "nbconvert_exporter": "python",
   "pygments_lexer": "ipython3",
   "version": "3.6.9"
  }
 },
 "nbformat": 4,
 "nbformat_minor": 4
}
